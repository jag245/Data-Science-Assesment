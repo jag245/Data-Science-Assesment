{
 "cells": [
  {
   "cell_type": "markdown",
   "metadata": {},
   "source": [
    "## **Jupyter Notebook detailing Python script for comparative genomics between two sets of genomic sequence data** "
   ]
  },
  {
   "cell_type": "markdown",
   "metadata": {},
   "source": [
    "#### This is the Python script for an elementary comparative genomics program for two input genomic sequences. It is designed to output to file the sequence positions where the nucleotide residues are the same, where they are different and where there are gaps in either sequence with respect to the other."
   ]
  },
  {
   "cell_type": "markdown",
   "metadata": {},
   "source": [
    "* The first step is importing the pandas data analysis library for use later in the program."
   ]
  },
  {
   "cell_type": "markdown",
   "metadata": {},
   "source": [
    "`import pandas as pd`"
   ]
  },
  {
   "cell_type": "markdown",
   "metadata": {},
   "source": [
    "* Secondly, to import the data files containing the nucleotide sequences, two file handles must be created - assigning the BYDV Ker II K439 isolate to one, and the Ker III K460 isolate to the other. "
   ]
  },
  {
   "cell_type": "markdown",
   "metadata": {},
   "source": [
    "`k460_file_handle = open('Barley_Yelllow_Dwarf_Virus_Ker_III_K460_sequence.txt', 'r')`"
   ]
  },
  {
   "cell_type": "markdown",
   "metadata": {},
   "source": [
    "`k439_file_handle = open('Barley_Yellow_Dwarf_Virus_Ker_II_K439_sequence.txt', 'r')`"
   ]
  },
  {
   "cell_type": "markdown",
   "metadata": {},
   "source": [
    "* The nucleotide sequences within either file can then be assigned to a string type variable using the .read() function."
   ]
  },
  {
   "cell_type": "markdown",
   "metadata": {},
   "source": [
    "`k439_sequence_string = (k439_file_handle.read())`"
   ]
  },
  {
   "cell_type": "markdown",
   "metadata": {},
   "source": [
    "`k460_sequence_string = (k460_file_handle.read())`"
   ]
  },
  {
   "cell_type": "markdown",
   "metadata": {},
   "source": [
    "* As the two files are strings, for ease of pairwise comparison they are then converted into list objects with the .list() function."
   ]
  },
  {
   "cell_type": "markdown",
   "metadata": {},
   "source": [
    "`k439_sequence_list = list(k439_sequence_string)`"
   ]
  },
  {
   "cell_type": "markdown",
   "metadata": {},
   "source": [
    "`k460_sequence_list = list(k460_sequence_string)`"
   ]
  },
  {
   "cell_type": "markdown",
   "metadata": {},
   "source": [
    "* To prevent unwanted occupation of system memory/resources, the file handles for the input files are closed."
   ]
  },
  {
   "cell_type": "markdown",
   "metadata": {},
   "source": [
    "`k439_file_handle.close()`"
   ]
  },
  {
   "cell_type": "markdown",
   "metadata": {},
   "source": [
    "`k460_file_handle.close()`"
   ]
  },
  {
   "cell_type": "markdown",
   "metadata": {},
   "source": [
    "* Prior to the next step, it is necessary to create two empty list objects, one called \"nucleotide_identity\" and the other \"nucleotide_position_index\". These will be added to later."
   ]
  },
  {
   "cell_type": "markdown",
   "metadata": {},
   "source": [
    "`nucleotide_identity=[]`"
   ]
  },
  {
   "cell_type": "markdown",
   "metadata": {},
   "source": [
    "`nucleotide_position_index=[]`"
   ]
  },
  {
   "cell_type": "markdown",
   "metadata": {},
   "source": [
    "* Originally, to check data had been entered and converted into lists successfully, a count of list elements was performed with the len() function. Upon printing, these were visually determined to be of the same length."
   ]
  },
  {
   "cell_type": "markdown",
   "metadata": {},
   "source": [
    "`print(len(k460_sequence_list))`"
   ]
  },
  {
   "cell_type": "markdown",
   "metadata": {},
   "source": [
    "`print(len(k439_sequence_list))`"
   ]
  },
  {
   "cell_type": "markdown",
   "metadata": {},
   "source": [
    "* To replace this visual check, a conditional while loop has been employed. To operate and proceed with subsequent code, it requires the condition of both lists equalling the same length to be fulfilled. (These checks led to the identification of an unwanted bracket at the end of one of the data files, which had to be removed.)"
   ]
  },
  {
   "cell_type": "markdown",
   "metadata": {},
   "source": [
    "`while(len(k460_sequence_list)==len(k439_sequence_list)):\n",
    "    for index, nucleotide_k439 in enumerate(k439_sequence_list):\n",
    ".#       if k460_sequence_list[index] == k439_sequence_list[index]:\n",
    ".#           print(\"True\")\n",
    ".#       elif (k439_sequence_list[index] == '-') or (k460_sequence_list[index] == '-'):\n",
    ".#           print(\"Gap\")\n",
    ".#       elif k439_sequence_list[index] != k460_sequence_list[index]:\n",
    ".#           print(\"False\")\n",
    "        if k460_sequence_list[index] == k439_sequence_list[index]:\n",
    "            nucleotide_identity.append(\"100%\")\n",
    "            nucleotide_position_index.append(index)\n",
    "        elif (k439_sequence_list[index] == '-') or (k460_sequence_list[index] == '-'):\n",
    "            nucleotide_identity.append(\"Gap\")\n",
    "            nucleotide_position_index.append(index)\n",
    "        elif k439_sequence_list[index] != k460_sequence_list[index]:\n",
    "            nucleotide_identity.append(\"0%, \" + k439_sequence_list[index] + \":\" + k460_sequence_list[index_a])\n",
    "            nucleotide_position_index.append(index)\n",
    ".#  print(nucleotide_identity)\n",
    ".#  print(nucleotide_position_index)\n",
    "    break`\n"
   ]
  },
  {
   "cell_type": "markdown",
   "metadata": {},
   "source": [
    "* A for loop is then nested within the while loop, in which the enumerate function assigns an index value to each entry of the Ker II K439 isolate list.\n",
    "\n",
    "* Prior to establishing output lists and files, the above #commented out# code was run to test whether each of the components of an \"if-elif-elif\" statement functioned correctly.  An if loop was used within the for loop, and if nucleotides within the loop were equivalent, then \"True\" was printed. Or if (elif) there was a gap \"-\" character in one of the nucleotide lists, then \"Gap\" was printed. Otherwise if (elif) the remaining nucleotide pairs did not equal one another, then \"False\" was printed. Incorrect results were encountered due to use of \"elif (k439_sequence_list[index] or k460_sequence_list[index]) == '-':\" in the second part of the statement. This problem was fixed by ensuring each expression either side of the \"or\" condition was complete in itself, and enclosed within its own parentheses.\n",
    "\n",
    "* The code that followed was refined futher, and instead of printing \"True\", \"False\" and \"Gap\" with satisfaction of each of the loop conditionals, the empty lists created earlier were added to with the .append() function. True was substituted for \"100%\" (identity), False for \"0%\" (identity) and \"Gap\" was retained. In addition to \"0%\" for unequal nucelotides, the difference in nuceotides between the isolates was also appended to the \"nucleotide_identity\" list. To the empty \"nucleotide_position_index\" list, was appended the index value for the nucleotide position of each pairwise comparison.\n",
    "\n",
    "* The option to print the \"nucleotide_identity\" and \"nucleotide_position_index\" lists is retained, and is commented out.\n",
    "\n",
    "* After iterating over every list element, the overarching while loop is ended with the \"break\" function."
   ]
  },
  {
   "cell_type": "markdown",
   "metadata": {},
   "source": [
    "`.#   for index, nucleotide_k439 in enumerate(k439_sequence_list):\n",
    " .#       if (k439_sequence_list[index] == '-') or (k460_sequence_list[index] == '-'):\n",
    " .#           nucleotide_identity.append(\"Gap\")\n",
    " .#           nucleotide_position_index.append(index)\n",
    " .#       elif k439_sequence_list[index] != k460_sequence_list[index]:\n",
    " .#           nucleotide_identity.append(\"0%, \" + k439_sequence_list[index] + \":\" + k460_sequence_list[index])\n",
    " .#           nucleotide_position_index.append(index)\n",
    " .#   print(nucleotide_identity)\n",
    " .#   print(nucleotide_position_index)\n",
    " `"
   ]
  },
  {
   "cell_type": "markdown",
   "metadata": {},
   "source": [
    "* Alternatively, to only output indices with different nucleotide residues or gaps, the  loop statement can be shortened to an \"if-elif\" statement, excluding any output if the nucleotides are equal. This is the variation commented out above (not including the while loop). In all the above loops, else could replace elif for the final element of the loop statement. "
   ]
  },
  {
   "cell_type": "markdown",
   "metadata": {},
   "source": [
    "* To output all this data to file, a dictionary is next made to combine the two separate lists, now populated from the loops."
   ]
  },
  {
   "cell_type": "markdown",
   "metadata": {},
   "source": [
    "`data_dictionary = {'Index':nucleotide_position_index,'Pairwise nucleotide identity':nucleotide_identity}`"
   ]
  },
  {
   "cell_type": "markdown",
   "metadata": {},
   "source": [
    "* This dictionary is then converted into a data frame using the pandas module as shown below."
   ]
  },
  {
   "cell_type": "markdown",
   "metadata": {},
   "source": [
    "`df = pd.DataFrame(data_dictionary)`"
   ]
  },
  {
   "cell_type": "markdown",
   "metadata": {},
   "source": [
    "* Finally the df.to_excel() function is employed to allow export of the dataframe to an external Excel file."
   ]
  },
  {
   "cell_type": "markdown",
   "metadata": {},
   "source": [
    "`df.to_excel(excel_writer=\"Comparative Genomics Sequence Identity.xls\", sheet_name=\"Sequence Identity\", index=False)`"
   ]
  },
  {
   "cell_type": "markdown",
   "metadata": {},
   "source": [
    "* The Excel file(s) containing the comparative genomic data can be found in the working directory in which the script is run."
   ]
  },
  {
   "cell_type": "markdown",
   "metadata": {},
   "source": [
    "* To ensure that the lists are not still populated should you choose to re-run the script, the contents of both is deleted with the .clear() function."
   ]
  },
  {
   "cell_type": "markdown",
   "metadata": {},
   "source": [
    "`nucleotide_identity.clear()`"
   ]
  },
  {
   "cell_type": "markdown",
   "metadata": {},
   "source": [
    "`nucleotide_position_index.clear()`"
   ]
  }
 ],
 "metadata": {
  "kernelspec": {
   "display_name": "Python 3",
   "language": "python",
   "name": "python3"
  },
  "language_info": {
   "codemirror_mode": {
    "name": "ipython",
    "version": 3
   },
   "file_extension": ".py",
   "mimetype": "text/x-python",
   "name": "python",
   "nbconvert_exporter": "python",
   "pygments_lexer": "ipython3",
   "version": "3.8.5"
  }
 },
 "nbformat": 4,
 "nbformat_minor": 4
}
